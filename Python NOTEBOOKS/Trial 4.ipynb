{
 "cells": [
  {
   "cell_type": "markdown",
   "metadata": {},
   "source": [
    "# Importing Libraries "
   ]
  },
  {
   "cell_type": "code",
   "execution_count": 1,
   "metadata": {},
   "outputs": [],
   "source": [
    "import tensorflow as tf\n",
    "import pandas as pd\n",
    "import numpy as np \n",
    "import matplotlib \n",
    "import matplotlib.pyplot as plt\n",
    "import seaborn as sn\n",
    "import cv"
   ]
  },
  {
   "cell_type": "markdown",
   "metadata": {},
   "source": [
    "# Fetching Data for binary classification function\n",
    "### Labelling using ImageDataGenerator()"
   ]
  },
  {
   "cell_type": "code",
   "execution_count": 2,
   "metadata": {},
   "outputs": [],
   "source": [
    "from tensorflow.keras.preprocessing.image import ImageDataGenerator"
   ]
  },
  {
   "cell_type": "markdown",
   "metadata": {},
   "source": [
    "# TRAINING_DATA\n",
    "#### baggage_carriers - 96 images\n",
    "#### birds - 95 images\n",
    "#### hangar - 117 images\n",
    "#### plane - 87 images\n",
    "#### tow_tractor - 126 images "
   ]
  },
  {
   "cell_type": "code",
   "execution_count": 3,
   "metadata": {},
   "outputs": [
    {
     "name": "stdout",
     "output_type": "stream",
     "text": [
      "Found 518 images belonging to 5 classes.\n"
     ]
    }
   ],
   "source": [
    "#train_dir \n",
    "train_datagen = ImageDataGenerator(rescale = 1./255,\n",
    "                                       zoom_range = 0.2,\n",
    "                                       horizontal_flip = True,\n",
    "                                       fill_mode = 'nearest')\n",
    "train_generator = train_datagen.flow_from_directory(\n",
    "                'C:/Users/Prajval P/LTPL-PRJ-045/training_dir/',\n",
    "                target_size = (224, 224),\n",
    "                batch_size = 25,\n",
    "                class_mode = 'sparse')"
   ]
  },
  {
   "cell_type": "markdown",
   "metadata": {},
   "source": [
    "# VALIDATION_DATA\n",
    "#### baggage_carriers - 5 images\n",
    "#### birds - 5 images\n",
    "#### hangar - 5 images\n",
    "#### plane - 5 images\n",
    "#### tow_tractor - 5 images "
   ]
  },
  {
   "cell_type": "code",
   "execution_count": 4,
   "metadata": {},
   "outputs": [
    {
     "name": "stdout",
     "output_type": "stream",
     "text": [
      "Found 25 images belonging to 5 classes.\n"
     ]
    }
   ],
   "source": [
    "#validation_dir\n",
    "validation_datagen = ImageDataGenerator(rescale = 1./255,\n",
    "                                       zoom_range = 0.2,\n",
    "                                       horizontal_flip = True,\n",
    "                                       fill_mode = 'nearest')\n",
    "validation_generator = validation_datagen.flow_from_directory(\n",
    "                'C:/Users/Prajval P/LTPL-PRJ-045/validation_dir',\n",
    "                target_size = (224, 224),\n",
    "                batch_size = 2,\n",
    "                class_mode = 'sparse')"
   ]
  },
  {
   "cell_type": "markdown",
   "metadata": {},
   "source": [
    "# Designing the model "
   ]
  },
  {
   "cell_type": "code",
   "execution_count": 5,
   "metadata": {},
   "outputs": [],
   "source": [
    "model = tf.keras.models.Sequential([\n",
    "    # Note the input shape is the desired size of the image 224x224 with 3 bytes color\n",
    "    # This is the first convolution\n",
    "    tf.keras.layers.Conv2D(16, (3,3), activation='relu', input_shape = (224, 224, 3)),\n",
    "    tf.keras.layers.MaxPooling2D(2, 2),\n",
    "    # The second convolution\n",
    "    tf.keras.layers.Conv2D(32, (3,3), activation='relu'),\n",
    "    tf.keras.layers.MaxPooling2D(2,2),\n",
    "    # The third convolution\n",
    "    tf.keras.layers.Conv2D(64, (3,3), activation='relu'),\n",
    "    tf.keras.layers.MaxPooling2D(2,2),\n",
    "    # The fourth convolution\n",
    "    tf.keras.layers.Conv2D(64, (3,3), activation='relu'),\n",
    "    tf.keras.layers.MaxPooling2D(2,2),\n",
    "    # The fifth convolution\n",
    "    tf.keras.layers.Conv2D(64, (3,3), activation='relu'),\n",
    "    #tf.keras.layers.MaxPooling2D(2,2),\n",
    "    # Flatten the results to feed into a DNN\n",
    "    tf.keras.layers.Flatten(),\n",
    "    # 512 neuron hidden layer\n",
    "    tf.keras.layers.Dense(512, activation='relu'),\n",
    "    # Dense layer to classify the 5 classes \n",
    "    tf.keras.layers.Dense(5, activation='softmax')\n",
    "])"
   ]
  },
  {
   "cell_type": "code",
   "execution_count": 6,
   "metadata": {},
   "outputs": [],
   "source": [
    "from tensorflow.keras.optimizers import RMSprop"
   ]
  },
  {
   "cell_type": "code",
   "execution_count": 7,
   "metadata": {},
   "outputs": [],
   "source": [
    "model.compile(optimizer = RMSprop(lr = 0.001), loss = 'sparse_categorical_crossentropy', metrics = ['acc'])"
   ]
  },
  {
   "cell_type": "code",
   "execution_count": 8,
   "metadata": {},
   "outputs": [
    {
     "name": "stdout",
     "output_type": "stream",
     "text": [
      "Epoch 1/40\n",
      "15/15 - 13s - loss: 1.8466 - acc: 0.2453 - val_loss: 1.5773 - val_acc: 0.2414\n",
      "Epoch 2/40\n",
      "15/15 - 12s - loss: 1.5909 - acc: 0.3179 - val_loss: 1.5365 - val_acc: 0.2759\n",
      "Epoch 3/40\n",
      "15/15 - 12s - loss: 1.4352 - acc: 0.4076 - val_loss: 2.0422 - val_acc: 0.2759\n",
      "Epoch 4/40\n",
      "15/15 - 14s - loss: 1.3843 - acc: 0.4293 - val_loss: 3.7444 - val_acc: 0.1724\n",
      "Epoch 5/40\n",
      "15/15 - 13s - loss: 1.3074 - acc: 0.5027 - val_loss: 1.4852 - val_acc: 0.3571\n",
      "Epoch 6/40\n",
      "15/15 - 14s - loss: 1.3045 - acc: 0.5217 - val_loss: 1.3225 - val_acc: 0.3103\n",
      "Epoch 7/40\n",
      "15/15 - 13s - loss: 1.1460 - acc: 0.5489 - val_loss: 1.1807 - val_acc: 0.5172\n",
      "Epoch 8/40\n",
      "15/15 - 14s - loss: 1.0990 - acc: 0.5973 - val_loss: 1.3986 - val_acc: 0.4138\n",
      "Epoch 9/40\n",
      "15/15 - 13s - loss: 1.1323 - acc: 0.5978 - val_loss: 1.4373 - val_acc: 0.3929\n",
      "Epoch 10/40\n",
      "15/15 - 13s - loss: 0.9651 - acc: 0.6603 - val_loss: 1.3616 - val_acc: 0.4483\n",
      "Epoch 11/40\n",
      "15/15 - 14s - loss: 0.8808 - acc: 0.6693 - val_loss: 2.2926 - val_acc: 0.4138\n",
      "Epoch 12/40\n",
      "15/15 - 14s - loss: 0.8970 - acc: 0.6630 - val_loss: 1.6251 - val_acc: 0.3448\n",
      "Epoch 13/40\n",
      "15/15 - 14s - loss: 0.8043 - acc: 0.7011 - val_loss: 1.4081 - val_acc: 0.4828\n",
      "Epoch 14/40\n",
      "15/15 - 13s - loss: 0.7466 - acc: 0.6902 - val_loss: 1.4861 - val_acc: 0.3448\n",
      "Epoch 15/40\n",
      "15/15 - 14s - loss: 0.7893 - acc: 0.7200 - val_loss: 1.5688 - val_acc: 0.3103\n",
      "Epoch 16/40\n",
      "15/15 - 13s - loss: 0.7382 - acc: 0.7147 - val_loss: 0.9918 - val_acc: 0.5517\n",
      "Epoch 17/40\n",
      "15/15 - 14s - loss: 0.6702 - acc: 0.7364 - val_loss: 1.1316 - val_acc: 0.5862\n",
      "Epoch 18/40\n",
      "15/15 - 14s - loss: 0.6680 - acc: 0.7627 - val_loss: 1.5157 - val_acc: 0.4643\n",
      "Epoch 19/40\n",
      "15/15 - 14s - loss: 0.5831 - acc: 0.7745 - val_loss: 1.3756 - val_acc: 0.5172\n",
      "Epoch 20/40\n",
      "15/15 - 14s - loss: 0.5955 - acc: 0.7853 - val_loss: 1.3981 - val_acc: 0.4138\n",
      "Epoch 21/40\n",
      "15/15 - 13s - loss: 0.4860 - acc: 0.8071 - val_loss: 1.0634 - val_acc: 0.6897\n",
      "Epoch 22/40\n",
      "15/15 - 14s - loss: 0.4153 - acc: 0.8427 - val_loss: 1.3699 - val_acc: 0.6071\n",
      "Epoch 23/40\n",
      "15/15 - 14s - loss: 0.5423 - acc: 0.8043 - val_loss: 1.9178 - val_acc: 0.4828\n",
      "Epoch 24/40\n",
      "15/15 - 14s - loss: 0.4332 - acc: 0.8696 - val_loss: 1.1435 - val_acc: 0.6897\n",
      "Epoch 25/40\n",
      "15/15 - 14s - loss: 0.3011 - acc: 0.8853 - val_loss: 1.6219 - val_acc: 0.6207\n",
      "Epoch 26/40\n",
      "15/15 - 14s - loss: 0.5013 - acc: 0.8533 - val_loss: 1.8533 - val_acc: 0.5172\n",
      "Epoch 27/40\n",
      "15/15 - 14s - loss: 0.2299 - acc: 0.8967 - val_loss: 1.7952 - val_acc: 0.6897\n",
      "Epoch 28/40\n",
      "15/15 - 14s - loss: 0.3023 - acc: 0.8832 - val_loss: 2.1666 - val_acc: 0.4483\n",
      "Epoch 29/40\n",
      "15/15 - 15s - loss: 0.3704 - acc: 0.8773 - val_loss: 1.7435 - val_acc: 0.4828\n",
      "Epoch 30/40\n",
      "15/15 - 14s - loss: 0.2617 - acc: 0.9022 - val_loss: 1.4668 - val_acc: 0.6897\n",
      "Epoch 31/40\n",
      "15/15 - 14s - loss: 0.2873 - acc: 0.9022 - val_loss: 2.0652 - val_acc: 0.5714\n",
      "Epoch 32/40\n",
      "15/15 - 14s - loss: 0.3026 - acc: 0.8987 - val_loss: 1.6567 - val_acc: 0.5172\n",
      "Epoch 33/40\n",
      "15/15 - 13s - loss: 0.1609 - acc: 0.9511 - val_loss: 1.7803 - val_acc: 0.6207\n",
      "Epoch 34/40\n",
      "15/15 - 14s - loss: 0.3145 - acc: 0.8804 - val_loss: 2.5224 - val_acc: 0.2414\n",
      "Epoch 35/40\n",
      "15/15 - 14s - loss: 0.1690 - acc: 0.9348 - val_loss: 1.6776 - val_acc: 0.6786\n",
      "Epoch 36/40\n",
      "15/15 - 14s - loss: 0.2586 - acc: 0.9360 - val_loss: 2.5357 - val_acc: 0.5517\n",
      "Epoch 37/40\n",
      "15/15 - 14s - loss: 0.1789 - acc: 0.9402 - val_loss: 2.5403 - val_acc: 0.5862\n",
      "Epoch 38/40\n",
      "15/15 - 14s - loss: 0.1438 - acc: 0.9457 - val_loss: 2.3958 - val_acc: 0.6207\n",
      "Epoch 39/40\n",
      "15/15 - 14s - loss: 0.1365 - acc: 0.9627 - val_loss: 2.1420 - val_acc: 0.5517\n",
      "Epoch 40/40\n",
      "15/15 - 14s - loss: 0.1520 - acc: 0.9620 - val_loss: 2.5874 - val_acc: 0.6207\n"
     ]
    }
   ],
   "source": [
    "history = model.fit(train_generator,\n",
    "                              steps_per_epoch=15,  \n",
    "                              epochs = 40,\n",
    "                              validation_data = validation_generator,\n",
    "                              validation_steps = 15,\n",
    "                              verbose = 2)"
   ]
  },
  {
   "cell_type": "markdown",
   "metadata": {},
   "source": [
    "# PLOTTING LOSS AND ACCURACY"
   ]
  },
  {
   "cell_type": "code",
   "execution_count": 9,
   "metadata": {},
   "outputs": [
    {
     "data": {
      "text/plain": [
       "Text(0.5, 1.0, 'Training and validation loss')"
      ]
     },
     "execution_count": 9,
     "metadata": {},
     "output_type": "execute_result"
    },
    {
     "data": {
      "image/png": "[encoded data removed]",
      "text/plain": [
       "<Figure size 432x288 with 1 Axes>"
      ]
     },
     "metadata": {
      "needs_background": "light"
     },
     "output_type": "display_data"
    },
    {
     "data": {
      "image/png": "[encoded data removed]",
      "text/plain": [
       "<Figure size 432x288 with 1 Axes>"
      ]
     },
     "metadata": {
      "needs_background": "light"
     },
     "output_type": "display_data"
    }
   ],
   "source": [
    "%matplotlib inline\n",
    "\n",
    "import matplotlib.image  as mpimg\n",
    "import matplotlib.pyplot as plt\n",
    "\n",
    "\n",
    "# Retrieve a list of list results on training and test data\n",
    "# sets for each training epoch\n",
    "\n",
    "acc=history.history['acc']\n",
    "val_acc=history.history['val_acc']\n",
    "loss=history.history['loss']\n",
    "val_loss=history.history['val_loss']\n",
    "\n",
    "epochs=range(len(acc)) # Get number of epochs\n",
    "\n",
    "\n",
    "# Plot training and validation accuracy per epoch\n",
    "\n",
    "plt.plot(epochs, acc, 'r', \"Training Accuracy\")\n",
    "plt.plot(epochs, val_acc, 'b', \"Validation Accuracy\")\n",
    "plt.title('Training and validation accuracy')\n",
    "plt.figure()\n",
    "\n",
    "\n",
    "# Plot training and validation loss per epoch\n",
    "\n",
    "plt.plot(epochs, loss, 'r', \"Training Loss\")\n",
    "plt.plot(epochs, val_loss, 'b', \"Validation Loss\")\n",
    "\n",
    "\n",
    "plt.title('Training and validation loss')\n"
   ]
  },
  {
   "cell_type": "code",
   "execution_count": 10,
   "metadata": {},
   "outputs": [
    {
     "name": "stdout",
     "output_type": "stream",
     "text": [
      "Model: \"sequential\"\n",
      "_________________________________________________________________\n",
      "Layer (type)                 Output Shape              Param #   \n",
      "=================================================================\n",
      "conv2d (Conv2D)              (None, 222, 222, 16)      448       \n",
      "_________________________________________________________________\n",
      "max_pooling2d (MaxPooling2D) (None, 111, 111, 16)      0         \n",
      "_________________________________________________________________\n",
      "conv2d_1 (Conv2D)            (None, 109, 109, 32)      4640      \n",
      "_________________________________________________________________\n",
      "max_pooling2d_1 (MaxPooling2 (None, 54, 54, 32)        0         \n",
      "_________________________________________________________________\n",
      "conv2d_2 (Conv2D)            (None, 52, 52, 64)        18496     \n",
      "_________________________________________________________________\n",
      "max_pooling2d_2 (MaxPooling2 (None, 26, 26, 64)        0         \n",
      "_________________________________________________________________\n",
      "conv2d_3 (Conv2D)            (None, 24, 24, 64)        36928     \n",
      "_________________________________________________________________\n",
      "max_pooling2d_3 (MaxPooling2 (None, 12, 12, 64)        0         \n",
      "_________________________________________________________________\n",
      "conv2d_4 (Conv2D)            (None, 10, 10, 64)        36928     \n",
      "_________________________________________________________________\n",
      "flatten (Flatten)            (None, 6400)              0         \n",
      "_________________________________________________________________\n",
      "dense (Dense)                (None, 512)               3277312   \n",
      "_________________________________________________________________\n",
      "dense_1 (Dense)              (None, 5)                 2565      \n",
      "=================================================================\n",
      "Total params: 3,377,317\n",
      "Trainable params: 3,377,317\n",
      "Non-trainable params: 0\n",
      "_________________________________________________________________\n"
     ]
    }
   ],
   "source": [
    "model.summary()"
   ]
  },
  {
   "cell_type": "code",
   "execution_count": null,
   "metadata": {},
   "outputs": [],
   "source": []
  }
 ],
 "metadata": {
  "kernelspec": {
   "display_name": "Python 3",
   "language": "python",
   "name": "python3"
  },
  "language_info": {
   "codemirror_mode": {
    "name": "ipython",
    "version": 3
   },
   "file_extension": ".py",
   "mimetype": "text/x-python",
   "name": "python",
   "nbconvert_exporter": "python",
   "pygments_lexer": "ipython3",
   "version": "3.7.4"
  }
 },
 "nbformat": 4,
 "nbformat_minor": 4
}
