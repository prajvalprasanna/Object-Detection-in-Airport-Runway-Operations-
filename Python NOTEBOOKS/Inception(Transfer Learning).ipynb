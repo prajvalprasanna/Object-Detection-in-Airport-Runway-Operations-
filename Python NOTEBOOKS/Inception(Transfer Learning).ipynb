{
 "cells": [
  {
   "cell_type": "code",
   "execution_count": 1,
   "metadata": {},
   "outputs": [],
   "source": [
    "import numpy as np \n",
    "import pandas as pd \n",
    "import matplotlib \n",
    "import matplotlib.pyplot as plt \n",
    "import seaborn as sn\n",
    "import tensorflow as tf\n",
    "import cv"
   ]
  },
  {
   "cell_type": "code",
   "execution_count": 12,
   "metadata": {},
   "outputs": [
    {
     "name": "stdout",
     "output_type": "stream",
     "text": [
      "last layer output shape:  (None, 7, 7, 768)\n"
     ]
    }
   ],
   "source": [
    "from tensorflow.keras.applications.inception_v3 import InceptionV3\n",
    "\n",
    "local_weights_file = 'C:/Users/Prajval P/LTPL-PRJ-045/inception_v3_weights_tf_dim_ordering_tf_kernels_notop.h5'\n",
    "\n",
    "pre_trained_model = InceptionV3(input_shape = (150, 150, 3), \n",
    "                                include_top = False, \n",
    "                                weights = None)\n",
    "\n",
    "pre_trained_model.load_weights(local_weights_file)\n",
    "\n",
    "for layer in pre_trained_model.layers:\n",
    "  layer.trainable = False\n",
    "  \n",
    "# pre_trained_model.summary()\n",
    "\n",
    "last_layer = pre_trained_model.get_layer('mixed7')\n",
    "print('last layer output shape: ', last_layer.output_shape)\n",
    "last_output = last_layer.output"
   ]
  },
  {
   "cell_type": "code",
   "execution_count": 13,
   "metadata": {},
   "outputs": [],
   "source": [
    "from tensorflow.keras import layers\n",
    "from tensorflow.keras import Model"
   ]
  },
  {
   "cell_type": "code",
   "execution_count": 14,
   "metadata": {},
   "outputs": [],
   "source": [
    "from tensorflow.keras.optimizers import RMSprop\n",
    "\n",
    "# Flatten the output layer to 1 dimension\n",
    "x = layers.Flatten()(last_output)\n",
    "# Add a fully connected layer with 1,024 hidden units and ReLU activation\n",
    "x = layers.Dense(1024, activation='relu')(x)\n",
    "# Add a dropout rate of 0.2\n",
    "x = layers.Dropout(0.2)(x)                  \n",
    "# Add a final softmax layer for classification\n",
    "x = layers.Dense  (5, activation='softmax')(x)           \n",
    "\n",
    "model = Model( pre_trained_model.input, x) \n",
    "\n",
    "model.compile(optimizer = RMSprop(lr=0.0001), \n",
    "              loss = 'sparse_categorical_crossentropy', \n",
    "              metrics = ['accuracy'])\n"
   ]
  },
  {
   "cell_type": "code",
   "execution_count": 19,
   "metadata": {},
   "outputs": [
    {
     "name": "stdout",
     "output_type": "stream",
     "text": [
      "Found 518 images belonging to 5 classes.\n",
      "Found 25 images belonging to 5 classes.\n"
     ]
    }
   ],
   "source": [
    "from tensorflow.keras.preprocessing.image import ImageDataGenerator\n",
    "# Add our data-augmentation parameters to ImageDataGenerator\n",
    "train_datagen = ImageDataGenerator(rescale = 1./255.,\n",
    "                                   #rotation_range = 40,\n",
    "                                   #width_shift_range = 0.2,\n",
    "                                   #height_shift_range = 0.2,\n",
    "                                   #shear_range = 0.2,\n",
    "                                   zoom_range = 0.2,\n",
    "                                   horizontal_flip = True)\n",
    "\n",
    "# Note that the validation data should not be augmented!\n",
    "test_datagen = ImageDataGenerator( rescale = 1.0/255. )\n",
    "training_dir = 'C:/Users/Prajval P/LTPL-PRJ-045/training_dir/'\n",
    "validation_dir = 'C:/Users/Prajval P/LTPL-PRJ-045/validation_dir/'\n",
    "# Flow training images in batches of 20 using train_datagen generator\n",
    "train_generator = train_datagen.flow_from_directory(training_dir,\n",
    "                                                    batch_size = 50,\n",
    "                                                    class_mode = 'sparse', \n",
    "                                                    target_size = (150, 150))     \n",
    "\n",
    "# Flow validation images in batches of 20 using test_datagen generator\n",
    "validation_generator =  test_datagen.flow_from_directory( validation_dir,\n",
    "                                                          batch_size  = 8,\n",
    "                                                          class_mode  = 'sparse', \n",
    "                                                          target_size = (150, 150))"
   ]
  },
  {
   "cell_type": "code",
   "execution_count": 21,
   "metadata": {},
   "outputs": [
    {
     "name": "stdout",
     "output_type": "stream",
     "text": [
      "Epoch 1/40\n",
      "100/100 - 151s - loss: 0.0073 - accuracy: 0.9983 - val_loss: 1.2326 - val_accuracy: 0.9209\n",
      "Epoch 2/40\n",
      "100/100 - 143s - loss: 0.0013 - accuracy: 0.9994 - val_loss: 1.6837 - val_accuracy: 0.9223\n",
      "Epoch 3/40\n",
      "100/100 - 146s - loss: 8.3696e-05 - accuracy: 1.0000 - val_loss: 1.5999 - val_accuracy: 0.8803\n",
      "Epoch 4/40\n",
      "100/100 - 146s - loss: 1.9388e-06 - accuracy: 1.0000 - val_loss: 1.6319 - val_accuracy: 0.8829\n",
      "Epoch 5/40\n",
      "100/100 - 144s - loss: 8.6749e-07 - accuracy: 1.0000 - val_loss: 1.7392 - val_accuracy: 0.9209\n",
      "Epoch 6/40\n",
      "100/100 - 145s - loss: 2.6391e-07 - accuracy: 1.0000 - val_loss: 1.6041 - val_accuracy: 0.9612\n",
      "Epoch 7/40\n",
      "100/100 - 145s - loss: 1.5237e-07 - accuracy: 1.0000 - val_loss: 1.8252 - val_accuracy: 0.9191\n",
      "Epoch 8/40\n",
      "100/100 - 145s - loss: 7.7238e-08 - accuracy: 1.0000 - val_loss: 1.6095 - val_accuracy: 0.9620\n",
      "Epoch 9/40\n",
      "100/100 - 148s - loss: 2.1754e-07 - accuracy: 1.0000 - val_loss: 2.1066 - val_accuracy: 0.8797\n",
      "Epoch 10/40\n",
      "100/100 - 155s - loss: 8.9671e-07 - accuracy: 1.0000 - val_loss: 2.0803 - val_accuracy: 0.8835\n",
      "Epoch 11/40\n",
      "100/100 - 146s - loss: 2.8339e-06 - accuracy: 1.0000 - val_loss: 1.9549 - val_accuracy: 0.8803\n",
      "Epoch 12/40\n",
      "100/100 - 146s - loss: 8.2044e-05 - accuracy: 1.0000 - val_loss: 1.6789 - val_accuracy: 0.9620\n",
      "Epoch 13/40\n",
      "100/100 - 146s - loss: 3.8695e-06 - accuracy: 1.0000 - val_loss: 1.9107 - val_accuracy: 0.9589\n",
      "Epoch 14/40\n",
      "100/100 - 145s - loss: 3.5534e-07 - accuracy: 1.0000 - val_loss: 1.8207 - val_accuracy: 0.9612\n",
      "Epoch 15/40\n",
      "100/100 - 145s - loss: 2.2921e-08 - accuracy: 1.0000 - val_loss: 2.0285 - val_accuracy: 0.9579\n",
      "Epoch 16/40\n",
      "100/100 - 145s - loss: 3.7673e-08 - accuracy: 1.0000 - val_loss: 1.9967 - val_accuracy: 0.9589\n",
      "Epoch 17/40\n",
      "100/100 - 144s - loss: 1.2295e-08 - accuracy: 1.0000 - val_loss: 1.9863 - val_accuracy: 0.9589\n",
      "Epoch 18/40\n",
      "100/100 - 145s - loss: 3.9896e-08 - accuracy: 1.0000 - val_loss: 1.8497 - val_accuracy: 0.9612\n",
      "Epoch 19/40\n",
      "100/100 - 144s - loss: 3.9238e-08 - accuracy: 1.0000 - val_loss: 2.0038 - val_accuracy: 0.9579\n",
      "Epoch 20/40\n",
      "100/100 - 144s - loss: 3.5165e-08 - accuracy: 1.0000 - val_loss: 2.0403 - val_accuracy: 0.9589\n",
      "Epoch 21/40\n",
      "100/100 - 146s - loss: 6.9617e-08 - accuracy: 1.0000 - val_loss: 2.0544 - val_accuracy: 0.9589\n",
      "Epoch 22/40\n",
      "100/100 - 147s - loss: 2.3629e-08 - accuracy: 1.0000 - val_loss: 1.9187 - val_accuracy: 0.9612\n",
      "Epoch 23/40\n",
      "100/100 - 144s - loss: 9.3354e-09 - accuracy: 1.0000 - val_loss: 2.0254 - val_accuracy: 0.9579\n",
      "Epoch 24/40\n",
      "100/100 - 145s - loss: 2.0189e-08 - accuracy: 1.0000 - val_loss: 1.9946 - val_accuracy: 0.9589\n",
      "Epoch 25/40\n",
      "100/100 - 145s - loss: 1.1585e-07 - accuracy: 1.0000 - val_loss: 1.8507 - val_accuracy: 0.9589\n",
      "Epoch 26/40\n",
      "100/100 - 144s - loss: 1.6394e-08 - accuracy: 1.0000 - val_loss: 1.9837 - val_accuracy: 0.9579\n",
      "Epoch 27/40\n",
      "100/100 - 144s - loss: 1.1921e-08 - accuracy: 1.0000 - val_loss: 1.8864 - val_accuracy: 0.9612\n",
      "Epoch 28/40\n",
      "100/100 - 144s - loss: 1.2624e-08 - accuracy: 1.0000 - val_loss: 1.8258 - val_accuracy: 0.9620\n",
      "Epoch 29/40\n",
      "100/100 - 148s - loss: 1.8836e-05 - accuracy: 1.0000 - val_loss: 2.0373 - val_accuracy: 0.8797\n",
      "Epoch 30/40\n",
      "100/100 - 146s - loss: 7.1844e-08 - accuracy: 1.0000 - val_loss: 1.8757 - val_accuracy: 0.9191\n",
      "Epoch 31/40\n",
      "100/100 - 145s - loss: 2.6994e-08 - accuracy: 1.0000 - val_loss: 1.8586 - val_accuracy: 0.9612\n",
      "Epoch 32/40\n",
      "100/100 - 144s - loss: 1.4598e-08 - accuracy: 1.0000 - val_loss: 1.9883 - val_accuracy: 0.9589\n",
      "Epoch 33/40\n",
      "100/100 - 144s - loss: 4.6644e-07 - accuracy: 1.0000 - val_loss: 1.7781 - val_accuracy: 0.9620\n",
      "Epoch 34/40\n",
      "100/100 - 145s - loss: 2.2136e-08 - accuracy: 1.0000 - val_loss: 1.8735 - val_accuracy: 0.9612\n",
      "Epoch 35/40\n",
      "100/100 - 144s - loss: 8.4246e-09 - accuracy: 1.0000 - val_loss: 1.8727 - val_accuracy: 0.9612\n",
      "Epoch 36/40\n",
      "100/100 - 144s - loss: 9.6136e-09 - accuracy: 1.0000 - val_loss: 1.9707 - val_accuracy: 0.9589\n",
      "Epoch 37/40\n",
      "100/100 - 145s - loss: 3.5419e-09 - accuracy: 1.0000 - val_loss: 1.9729 - val_accuracy: 0.9589\n",
      "Epoch 38/40\n",
      "100/100 - 144s - loss: 1.5716e-08 - accuracy: 1.0000 - val_loss: 1.8751 - val_accuracy: 0.9612\n",
      "Epoch 39/40\n",
      "100/100 - 144s - loss: 1.0980e-08 - accuracy: 1.0000 - val_loss: 2.0001 - val_accuracy: 0.9579\n",
      "Epoch 40/40\n",
      "100/100 - 145s - loss: 3.4913e-09 - accuracy: 1.0000 - val_loss: 1.8115 - val_accuracy: 0.9620\n"
     ]
    }
   ],
   "source": [
    "history = model.fit(\n",
    "            train_generator,\n",
    "            validation_data = validation_generator,\n",
    "            steps_per_epoch = 100,\n",
    "            epochs = 40,\n",
    "            validation_steps = 50,\n",
    "            verbose = 2)"
   ]
  },
  {
   "cell_type": "code",
   "execution_count": 30,
   "metadata": {},
   "outputs": [
    {
     "data": {
      "image/png": "[encoded data removed]",
      "text/plain": [
       "<Figure size 432x288 with 1 Axes>"
      ]
     },
     "metadata": {
      "needs_background": "light"
     },
     "output_type": "display_data"
    },
    {
     "data": {
      "text/plain": [
       "<Figure size 432x288 with 0 Axes>"
      ]
     },
     "metadata": {},
     "output_type": "display_data"
    }
   ],
   "source": [
    "import matplotlib.pyplot as plt\n",
    "acc = history.history['accuracy']\n",
    "val_acc = history.history['val_accuracy']\n",
    "loss = history.history['loss']\n",
    "val_loss = history.history['val_loss']\n",
    "\n",
    "epochs = range(len(acc))\n",
    "\n",
    "plt.plot(epochs, acc, 'r', label='Training accuracy')\n",
    "plt.plot(epochs, val_acc, 'b', label='Validation accuracy')\n",
    "plt.title('Training and validation accuracy')\n",
    "plt.legend(loc=0)\n",
    "plt.figure()\n",
    "\n",
    "\n",
    "plt.show()"
   ]
  },
  {
   "cell_type": "code",
   "execution_count": 32,
   "metadata": {},
   "outputs": [
    {
     "data": {
      "image/png": "[encoded data removed]",
      "text/plain": [
       "<Figure size 432x288 with 1 Axes>"
      ]
     },
     "metadata": {
      "needs_background": "light"
     },
     "output_type": "display_data"
    },
    {
     "data": {
      "text/plain": [
       "<Figure size 432x288 with 0 Axes>"
      ]
     },
     "metadata": {},
     "output_type": "display_data"
    }
   ],
   "source": [
    "import matplotlib.pyplot as plt\n",
    "acc = history.history['accuracy']\n",
    "val_acc = history.history['val_accuracy']\n",
    "loss = history.history['loss']\n",
    "val_loss = history.history['val_loss']\n",
    "\n",
    "epochs = range(len(acc))\n",
    "\n",
    "plt.plot(epochs, loss, 'r', label='Training loss')\n",
    "plt.plot(epochs, val_loss, 'b', label='Validation loss')\n",
    "plt.title('Training and validation loss')\n",
    "plt.legend(loc=0)\n",
    "plt.figure()\n",
    "\n",
    "\n",
    "plt.show()"
   ]
  },
  {
   "cell_type": "code",
   "execution_count": null,
   "metadata": {},
   "outputs": [],
   "source": []
  }
 ],
 "metadata": {
  "kernelspec": {
   "display_name": "Python 3",
   "language": "python",
   "name": "python3"
  },
  "language_info": {
   "codemirror_mode": {
    "name": "ipython",
    "version": 3
   },
   "file_extension": ".py",
   "mimetype": "text/x-python",
   "name": "python",
   "nbconvert_exporter": "python",
   "pygments_lexer": "ipython3",
   "version": "3.7.4"
  }
 },
 "nbformat": 4,
 "nbformat_minor": 4
}
