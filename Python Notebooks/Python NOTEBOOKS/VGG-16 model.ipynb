{
 "cells": [
  {
   "cell_type": "markdown",
   "metadata": {},
   "source": [
    "# Importing the required Libraries "
   ]
  },
  {
   "cell_type": "code",
   "execution_count": 1,
   "metadata": {},
   "outputs": [],
   "source": [
    "import numpy as np \n",
    "import pandas as pd \n",
    "import matplotlib \n",
    "import matplotlib.pyplot as plt \n",
    "import seaborn as sn \n",
    "import tensorflow as tf\n",
    "import cv"
   ]
  },
  {
   "cell_type": "markdown",
   "metadata": {},
   "source": [
    "# Fetching Data\n",
    "\n",
    "## Labelling using ImageDataGenerator()"
   ]
  },
  {
   "cell_type": "markdown",
   "metadata": {},
   "source": [
    "##### 6 classes - 20 images each for training \n",
    "#####             5 images each for cross-val"
   ]
  },
  {
   "cell_type": "code",
   "execution_count": 2,
   "metadata": {},
   "outputs": [],
   "source": [
    "from tensorflow.keras.preprocessing.image import ImageDataGenerator"
   ]
  },
  {
   "cell_type": "markdown",
   "metadata": {},
   "source": [
    "# TRAINING_DATA\n",
    "#### baggage_carriers - 96 images\n",
    "#### birds - 95 images\n",
    "#### hangar - 117 images\n",
    "#### plane - 87 images\n",
    "#### tow_tractor - 126 images "
   ]
  },
  {
   "cell_type": "code",
   "execution_count": 3,
   "metadata": {},
   "outputs": [
    {
     "name": "stdout",
     "output_type": "stream",
     "text": [
      "Found 518 images belonging to 5 classes.\n"
     ]
    }
   ],
   "source": [
    "#train_dir \n",
    "train_datagen = ImageDataGenerator(rescale = 1./255,\n",
    "                                       zoom_range = 0.2,\n",
    "                                       horizontal_flip = True,\n",
    "                                       fill_mode = 'nearest')\n",
    "train_generator = train_datagen.flow_from_directory(\n",
    "                'C:/Users/Prajval P/LTPL-PRJ-045/training_dir/',\n",
    "                target_size = (224, 224),\n",
    "                batch_size = 25,\n",
    "                class_mode = 'sparse')"
   ]
  },
  {
   "cell_type": "markdown",
   "metadata": {},
   "source": [
    "# VALIDATION_DATA\n",
    "#### baggage_carriers - 5 images\n",
    "#### birds - 5 images\n",
    "#### hangar - 5 images\n",
    "#### plane - 5 images\n",
    "#### tow_tractor - 5 images "
   ]
  },
  {
   "cell_type": "code",
   "execution_count": 4,
   "metadata": {},
   "outputs": [
    {
     "name": "stdout",
     "output_type": "stream",
     "text": [
      "Found 25 images belonging to 5 classes.\n"
     ]
    }
   ],
   "source": [
    "#validation_dir\n",
    "validation_datagen = ImageDataGenerator(rescale = 1./255,\n",
    "                                       zoom_range = 0.2,\n",
    "                                       horizontal_flip = True,\n",
    "                                       fill_mode = 'nearest')\n",
    "validation_generator = validation_datagen.flow_from_directory(\n",
    "                'C:/Users/Prajval P/LTPL-PRJ-045/validation_dir',\n",
    "                target_size = (224, 224),\n",
    "                batch_size = 2,\n",
    "                class_mode = 'sparse')"
   ]
  },
  {
   "cell_type": "markdown",
   "metadata": {},
   "source": [
    "# Designing the model "
   ]
  },
  {
   "cell_type": "markdown",
   "metadata": {},
   "source": [
    "### Model - VGG - 16"
   ]
  },
  {
   "cell_type": "code",
   "execution_count": 5,
   "metadata": {},
   "outputs": [],
   "source": [
    "model = tf.keras.models.Sequential([\n",
    "    # First Convolution - 2 layers 64 - filters\n",
    "    tf.keras.layers.Conv2D(64, (3, 3), activation = 'relu', input_shape = (224, 224, 3), strides = (1, 1)), #Layer 1\n",
    "    tf.keras.layers.Conv2D(64, (3, 3), activation = 'relu', strides = (1, 1)), #Layer 2\n",
    "    # First Pooling layer: pool size 2x2\n",
    "    tf.keras.layers.MaxPooling2D(pool_size = (2, 2), strides = (2, 2)),#Layer 3 \n",
    "    # Second Convolution - 2 layers 128 - filters \n",
    "    tf.keras.layers.Conv2D(128, (3, 3), activation = 'relu', strides = (1, 1)),#Layer 4\n",
    "    tf.keras.layers.Conv2D(128, (3, 3), activation = 'relu', strides = (1, 1)),#Layer 5\n",
    "    # Second Pooling layer: pool size 2x2\n",
    "    tf.keras.layers.MaxPooling2D(pool_size = (2, 2), strides = (2, 2)),#Layer 6\n",
    "    # Third Convolution - 2 layers 256 - filters \n",
    "    tf.keras.layers.Conv2D(256, (3, 3), activation = 'relu', strides = (1, 1)),#Layer 6\n",
    "    tf.keras.layers.Conv2D(256, (3, 3), activation = 'relu', strides = (1, 1)),#Layer 7\n",
    "    # Third Pooling layer: pool size 2x2\n",
    "    tf.keras.layers.MaxPooling2D(pool_size = (2, 2), strides = (2, 2)),#Layer 8\n",
    "    # Fourth Convolution - 3 layers 512 - filters\n",
    "    tf.keras.layers.Conv2D(512, (3, 3), activation = 'relu', strides = (1, 1)),#Layer 8\n",
    "    tf.keras.layers.Conv2D(512, (3, 3), activation = 'relu', strides = (1, 1)),#Layer 9\n",
    "    tf.keras.layers.Conv2D(512, (3, 3), activation = 'relu', strides = (1, 1)),#Layer 10\n",
    "    # Fourth Pooling layer: pool size 2x2\n",
    "    tf.keras.layers.MaxPooling2D(pool_size = (2, 2), strides = (2, 2)),#Layer 11\n",
    "    #Fifth Convolution - 3 layers 512 - filters\n",
    "    tf.keras.layers.Conv2D(512, (3, 3), activation = 'relu', strides = (1, 1)),#Layer 12\n",
    "    tf.keras.layers.Conv2D(512, (3, 3), activation = 'relu', strides = (1, 1)),#Layer 13\n",
    "    tf.keras.layers.Conv2D(512, (3, 3), activation = 'relu', strides = (1, 1)),#Layer 14\n",
    "    #Fifth Pooling layer: pool size 2x2\n",
    "    tf.keras.layers.MaxPooling2D(pool_size = (2, 2), strides = (2, 2)),#Layer 15\n",
    "    # Dense Layers: 2 layers with 4096 hidden units\n",
    "    tf.keras.layers.Dense(4096, activation = 'relu'),#Layer 16\n",
    "    tf.keras.layers.Dense(4096, activation = 'relu'),#Layer 17\n",
    "    # Dense Layer with sofmax activation for the final classification \n",
    "    tf.keras.layers.Dense(6, activation = 'softmax')#Layer 18\n",
    "])"
   ]
  },
  {
   "cell_type": "code",
   "execution_count": 6,
   "metadata": {},
   "outputs": [],
   "source": [
    "from tensorflow.keras.optimizers import RMSprop"
   ]
  },
  {
   "cell_type": "code",
   "execution_count": 7,
   "metadata": {},
   "outputs": [],
   "source": [
    "model.compile(optimizer = RMSprop(lr = 0.001), loss = 'sparse_categorical_crossentropy', metrics = ['acc'])"
   ]
  },
  {
   "cell_type": "code",
   "execution_count": 8,
   "metadata": {},
   "outputs": [
    {
     "name": "stdout",
     "output_type": "stream",
     "text": [
      "Epoch 1/50\n",
      "15/15 - 156s - loss: 12.5411 - acc: 0.1707 - val_loss: 12.7833 - val_acc: 0.2105\n",
      "Epoch 2/50\n",
      "15/15 - 164s - loss: 13.0084 - acc: 0.1956 - val_loss: 13.8949 - val_acc: 0.1404\n",
      "Epoch 3/50\n",
      "15/15 - 164s - loss: 13.3587 - acc: 0.1689 - val_loss: 11.6717 - val_acc: 0.2807\n",
      "Epoch 4/50\n",
      "15/15 - 175s - loss: 13.3673 - acc: 0.1707 - val_loss: 13.8949 - val_acc: 0.1404\n",
      "Epoch 5/50\n",
      "15/15 - 168s - loss: 13.1398 - acc: 0.1835 - val_loss: 13.2399 - val_acc: 0.1852\n",
      "Epoch 6/50\n",
      "15/15 - 170s - loss: 13.6215 - acc: 0.1547 - val_loss: 12.7833 - val_acc: 0.2105\n",
      "Epoch 7/50\n",
      "15/15 - 176s - loss: 12.8770 - acc: 0.1985 - val_loss: 12.7833 - val_acc: 0.1930\n",
      "Epoch 8/50\n",
      "15/15 - 169s - loss: 13.1094 - acc: 0.1867 - val_loss: 12.7833 - val_acc: 0.2105\n",
      "Epoch 9/50\n",
      "15/15 - 172s - loss: 13.5339 - acc: 0.1595 - val_loss: 12.6642 - val_acc: 0.2222\n",
      "Epoch 10/50\n",
      "15/15 - 175s - loss: 12.8332 - acc: 0.2028 - val_loss: 12.7833 - val_acc: 0.2105\n",
      "Epoch 11/50\n",
      "15/15 - 175s - loss: 13.6681 - acc: 0.1520 - val_loss: 12.7833 - val_acc: 0.1930\n",
      "Epoch 12/50\n",
      "15/15 - 169s - loss: 12.8332 - acc: 0.2035 - val_loss: 12.7833 - val_acc: 0.1930\n",
      "Epoch 13/50\n",
      "15/15 - 170s - loss: 13.3587 - acc: 0.1720 - val_loss: 13.3391 - val_acc: 0.1754\n",
      "Epoch 14/50\n",
      "15/15 - 173s - loss: 13.2274 - acc: 0.1803 - val_loss: 12.7833 - val_acc: 0.1930\n",
      "Epoch 15/50\n",
      "15/15 - 172s - loss: 12.9375 - acc: 0.1973 - val_loss: 12.2275 - val_acc: 0.2456\n",
      "Epoch 16/50\n",
      "15/15 - 177s - loss: 13.7967 - acc: 0.1453 - val_loss: 13.8949 - val_acc: 0.1404\n",
      "Epoch 17/50\n",
      "15/15 - 168s - loss: 12.8770 - acc: 0.2016 - val_loss: 12.7833 - val_acc: 0.2105\n",
      "Epoch 18/50\n",
      "15/15 - 178s - loss: 13.1953 - acc: 0.1813 - val_loss: 13.2399 - val_acc: 0.1667\n",
      "Epoch 19/50\n",
      "15/15 - 172s - loss: 13.6215 - acc: 0.1555 - val_loss: 13.3391 - val_acc: 0.1579\n",
      "Epoch 20/50\n",
      "15/15 - 172s - loss: 12.8770 - acc: 0.2008 - val_loss: 13.8949 - val_acc: 0.1404\n",
      "Epoch 21/50\n",
      "15/15 - 178s - loss: 13.2711 - acc: 0.1783 - val_loss: 11.6717 - val_acc: 0.2807\n",
      "Epoch 22/50\n",
      "15/15 - 177s - loss: 12.9804 - acc: 0.1947 - val_loss: 13.2399 - val_acc: 0.1852\n",
      "Epoch 23/50\n",
      "15/15 - 169s - loss: 13.4463 - acc: 0.1657 - val_loss: 12.7833 - val_acc: 0.2105\n",
      "Epoch 24/50\n",
      "15/15 - 174s - loss: 13.4025 - acc: 0.1693 - val_loss: 13.3391 - val_acc: 0.1754\n",
      "Epoch 25/50\n",
      "15/15 - 175s - loss: 13.0234 - acc: 0.1920 - val_loss: 13.3391 - val_acc: 0.1754\n",
      "Epoch 26/50\n",
      "15/15 - 171s - loss: 13.8405 - acc: 0.1417 - val_loss: 12.2275 - val_acc: 0.2281\n",
      "Epoch 27/50\n",
      "15/15 - 174s - loss: 12.7456 - acc: 0.2091 - val_loss: 13.3391 - val_acc: 0.1754\n",
      "Epoch 28/50\n",
      "15/15 - 170s - loss: 13.1398 - acc: 0.1827 - val_loss: 12.7833 - val_acc: 0.2105\n",
      "Epoch 29/50\n",
      "15/15 - 174s - loss: 13.0234 - acc: 0.1920 - val_loss: 12.2275 - val_acc: 0.2456\n",
      "Epoch 30/50\n",
      "15/15 - 171s - loss: 13.4463 - acc: 0.1642 - val_loss: 12.7833 - val_acc: 0.2105\n",
      "Epoch 31/50\n",
      "15/15 - 170s - loss: 13.1835 - acc: 0.1815 - val_loss: 13.2399 - val_acc: 0.1852\n",
      "Epoch 32/50\n",
      "15/15 - 176s - loss: 13.2813 - acc: 0.1760 - val_loss: 13.8949 - val_acc: 0.1404\n",
      "Epoch 33/50\n",
      "15/15 - 169s - loss: 13.0960 - acc: 0.1878 - val_loss: 12.7833 - val_acc: 0.2105\n",
      "Epoch 34/50\n",
      "15/15 - 173s - loss: 13.2711 - acc: 0.1783 - val_loss: 13.3391 - val_acc: 0.1754\n",
      "Epoch 35/50\n",
      "15/15 - 175s - loss: 13.2711 - acc: 0.1760 - val_loss: 12.6642 - val_acc: 0.2037\n",
      "Epoch 36/50\n",
      "15/15 - 172s - loss: 13.1953 - acc: 0.1813 - val_loss: 13.3391 - val_acc: 0.1754\n",
      "Epoch 37/50\n",
      "15/15 - 172s - loss: 13.5777 - acc: 0.1575 - val_loss: 12.7833 - val_acc: 0.2105\n",
      "Epoch 38/50\n",
      "15/15 - 177s - loss: 12.8770 - acc: 0.2008 - val_loss: 13.8949 - val_acc: 0.1404\n",
      "Epoch 39/50\n",
      "15/15 - 185s - loss: 13.2383 - acc: 0.1787 - val_loss: 12.7833 - val_acc: 0.2105\n",
      "Epoch 40/50\n",
      "15/15 - 177s - loss: 13.0522 - acc: 0.1905 - val_loss: 12.7833 - val_acc: 0.2105\n",
      "Epoch 41/50\n",
      "15/15 - 173s - loss: 13.6215 - acc: 0.1555 - val_loss: 13.3391 - val_acc: 0.1754\n",
      "Epoch 42/50\n",
      "15/15 - 173s - loss: 13.0084 - acc: 0.1933 - val_loss: 13.8949 - val_acc: 0.1404\n",
      "Epoch 43/50\n",
      "15/15 - 176s - loss: 13.0664 - acc: 0.1893 - val_loss: 12.2275 - val_acc: 0.2281\n",
      "Epoch 44/50\n",
      "15/15 - 169s - loss: 13.2711 - acc: 0.1775 - val_loss: 13.2399 - val_acc: 0.1852\n",
      "Epoch 45/50\n",
      "15/15 - 172s - loss: 13.4901 - acc: 0.1599 - val_loss: 11.6717 - val_acc: 0.2632\n",
      "Epoch 46/50\n",
      "15/15 - 172s - loss: 13.0664 - acc: 0.1893 - val_loss: 12.7833 - val_acc: 0.2105\n",
      "Epoch 47/50\n",
      "15/15 - 168s - loss: 13.4025 - acc: 0.1693 - val_loss: 12.7833 - val_acc: 0.2105\n",
      "Epoch 48/50\n",
      "15/15 - 179s - loss: 13.0960 - acc: 0.1886 - val_loss: 13.2399 - val_acc: 0.1667\n",
      "Epoch 49/50\n",
      "15/15 - 169s - loss: 13.1835 - acc: 0.1831 - val_loss: 12.7833 - val_acc: 0.1930\n",
      "Epoch 50/50\n",
      "15/15 - 174s - loss: 13.2813 - acc: 0.1760 - val_loss: 13.3391 - val_acc: 0.1754\n"
     ]
    }
   ],
   "source": [
    "history = model.fit(train_generator,\n",
    "                              steps_per_epoch=15,  \n",
    "                              epochs = 50,\n",
    "                              validation_data = validation_generator,\n",
    "                              validation_steps = 15,\n",
    "                              verbose = 2)"
   ]
  },
  {
   "cell_type": "markdown",
   "metadata": {},
   "source": [
    "# PLOTTING LOSS AND ACCURACY"
   ]
  },
  {
   "cell_type": "code",
   "execution_count": 9,
   "metadata": {},
   "outputs": [
    {
     "data": {
      "text/plain": [
       "Text(0.5, 1.0, 'Training and validation loss')"
      ]
     },
     "execution_count": 9,
     "metadata": {},
     "output_type": "execute_result"
    },
    {
     "data": {
      "image/png": "[encoded data removed]",
      "text/plain": [
       "<Figure size 432x288 with 1 Axes>"
      ]
     },
     "metadata": {
      "needs_background": "light"
     },
     "output_type": "display_data"
    },
    {
     "data": {
      "image/png": "[encoded data removed]",
      "text/plain": [
       "<Figure size 432x288 with 1 Axes>"
      ]
     },
     "metadata": {
      "needs_background": "light"
     },
     "output_type": "display_data"
    }
   ],
   "source": [
    "%matplotlib inline\n",
    "\n",
    "import matplotlib.image  as mpimg\n",
    "import matplotlib.pyplot as plt\n",
    "\n",
    "\n",
    "# Retrieve a list of list results on training and test data\n",
    "# sets for each training epoch\n",
    "\n",
    "acc=history.history['acc']\n",
    "val_acc=history.history['val_acc']\n",
    "loss=history.history['loss']\n",
    "val_loss=history.history['val_loss']\n",
    "\n",
    "epochs=range(len(acc)) # Get number of epochs\n",
    "\n",
    "\n",
    "# Plot training and validation accuracy per epoch\n",
    "\n",
    "plt.plot(epochs, acc, 'r', \"Training Accuracy\")\n",
    "plt.plot(epochs, val_acc, 'b', \"Validation Accuracy\")\n",
    "plt.title('Training and validation accuracy')\n",
    "plt.figure()\n",
    "\n",
    "\n",
    "# Plot training and validation loss per epoch\n",
    "\n",
    "plt.plot(epochs, loss, 'r', \"Training Loss\")\n",
    "plt.plot(epochs, val_loss, 'b', \"Validation Loss\")\n",
    "\n",
    "\n",
    "plt.title('Training and validation loss')\n"
   ]
  },
  {
   "cell_type": "code",
   "execution_count": null,
   "metadata": {},
   "outputs": [],
   "source": []
  }
 ],
 "metadata": {
  "kernelspec": {
   "display_name": "Python 3",
   "language": "python",
   "name": "python3"
  },
  "language_info": {
   "codemirror_mode": {
    "name": "ipython",
    "version": 3
   },
   "file_extension": ".py",
   "mimetype": "text/x-python",
   "name": "python",
   "nbconvert_exporter": "python",
   "pygments_lexer": "ipython3",
   "version": "3.7.4"
  }
 },
 "nbformat": 4,
 "nbformat_minor": 4
}
